{
 "cells": [
  {
   "cell_type": "code",
   "execution_count": 30,
   "source": [
    "from pyspark.sql import SparkSession\r\n",
    "import pyspark.sql.types as t\r\n",
    "import pyspark.sql.functions as f"
   ],
   "outputs": [],
   "metadata": {}
  },
  {
   "cell_type": "code",
   "execution_count": 18,
   "source": [
    "import pandas as pd\r\n",
    "pd.set_option('display.max_columns', None)"
   ],
   "outputs": [],
   "metadata": {}
  },
  {
   "cell_type": "code",
   "execution_count": 2,
   "source": [
    "spark = (\r\n",
    "    SparkSession\r\n",
    "    .builder\r\n",
    "    .config(\"fs.gs.impl\", \"com.google.cloud.hadoop.fs.gcs.GoogleHadoopFileSystem\")\r\n",
    "    .config(\"fs.AbstractFileSystem.gs.impl\", \"com.google.cloud.hadoop.fs.gcs.GoogleHadoopFS\")\r\n",
    "    .config(\"fs.gs.auth.service.account.enable\", \"true\")\r\n",
    "    .config(\"fs.gs.auth.service.account.json.keyfile\", \"../conf/edc-bootcamp-b7eceb9620cc.json\")\r\n",
    "    .getOrCreate()\r\n",
    ")"
   ],
   "outputs": [],
   "metadata": {}
  }
 ],
 "metadata": {
  "kernelspec": {
   "display_name": "Python 3",
   "language": "python",
   "name": "python3"
  },
  "language_info": {
   "codemirror_mode": {
    "name": "ipython",
    "version": 3
   },
   "file_extension": ".py",
   "mimetype": "text/x-python",
   "name": "python",
   "nbconvert_exporter": "python",
   "pygments_lexer": "ipython3",
   "version": "3.8.8"
  }
 },
 "nbformat": 4,
 "nbformat_minor": 5
}