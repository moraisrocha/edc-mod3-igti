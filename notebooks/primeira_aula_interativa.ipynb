{
 "cells": [
  {
   "cell_type": "markdown",
   "source": [
    "## Bibliotecas"
   ],
   "metadata": {}
  },
  {
   "cell_type": "code",
   "execution_count": 7,
   "source": [
    "from pyspark.sql import SparkSession\r\n",
    "import pyspark.sql.functions as f\r\n",
    "import pyspark.sql.types as t\r\n",
    "from pyspark.sql.window import Window"
   ],
   "outputs": [],
   "metadata": {}
  },
  {
   "cell_type": "code",
   "execution_count": 8,
   "source": [
    "import findspark\r\n",
    "\r\n",
    "findspark.init()"
   ],
   "outputs": [],
   "metadata": {}
  },
  {
   "cell_type": "code",
   "execution_count": 9,
   "source": [
    "spark = (\r\n",
    "    SparkSession.builder\r\n",
    "    .config('spark.serializer', \"org.apache.spark.serializer.KryoSerializer\")\r\n",
    "    .getOrCreate()\r\n",
    ")"
   ],
   "outputs": [],
   "metadata": {}
  },
  {
   "cell_type": "code",
   "execution_count": 10,
   "source": [
    "imdb_path = '../data/imdb/'"
   ],
   "outputs": [],
   "metadata": {}
  },
  {
   "cell_type": "code",
   "execution_count": 11,
   "source": [
    "df_titles = spark.read.format(\"parquet\").load(imdb_path + 'title_basics')\r\n",
    "df_ratings = spark.read.format(\"parquet\").load(imdb_path + 'title_ratings')"
   ],
   "outputs": [],
   "metadata": {}
  },
  {
   "cell_type": "markdown",
   "source": [
    "## Questão 11"
   ],
   "metadata": {}
  },
  {
   "cell_type": "markdown",
   "source": [
    "### Forma Errada"
   ],
   "metadata": {}
  },
  {
   "cell_type": "code",
   "execution_count": 16,
   "source": [
    "(\r\n",
    "    df_titles.withColumn('genres', f.explode(f.split('genres', ',')))\r\n",
    "    .filter(\"startYear = 2018\")\r\n",
    "    .groupby('startYear', 'genres')\r\n",
    "    .count()\r\n",
    "    .withColumn('perc', f.col('count')/f.sum('count').over(Window.partitionBy('startYear')))\r\n",
    "    .filter('genres = \"Comedy\"')\r\n",
    "    .toPandas()\r\n",
    ")"
   ],
   "outputs": [
    {
     "output_type": "execute_result",
     "data": {
      "text/html": [
       "<div>\n",
       "<style scoped>\n",
       "    .dataframe tbody tr th:only-of-type {\n",
       "        vertical-align: middle;\n",
       "    }\n",
       "\n",
       "    .dataframe tbody tr th {\n",
       "        vertical-align: top;\n",
       "    }\n",
       "\n",
       "    .dataframe thead th {\n",
       "        text-align: right;\n",
       "    }\n",
       "</style>\n",
       "<table border=\"1\" class=\"dataframe\">\n",
       "  <thead>\n",
       "    <tr style=\"text-align: right;\">\n",
       "      <th></th>\n",
       "      <th>startYear</th>\n",
       "      <th>genres</th>\n",
       "      <th>count</th>\n",
       "      <th>perc</th>\n",
       "    </tr>\n",
       "  </thead>\n",
       "  <tbody>\n",
       "    <tr>\n",
       "      <th>0</th>\n",
       "      <td>2018</td>\n",
       "      <td>Comedy</td>\n",
       "      <td>78809</td>\n",
       "      <td>0.126122</td>\n",
       "    </tr>\n",
       "  </tbody>\n",
       "</table>\n",
       "</div>"
      ],
      "text/plain": [
       "  startYear  genres  count      perc\n",
       "0      2018  Comedy  78809  0.126122"
      ]
     },
     "metadata": {},
     "execution_count": 16
    }
   ],
   "metadata": {}
  },
  {
   "cell_type": "markdown",
   "source": [
    "### Forma Correta"
   ],
   "metadata": {}
  },
  {
   "cell_type": "code",
   "execution_count": 13,
   "source": [
    "(\r\n",
    "    df_titles\r\n",
    "    .withColumn('n_titles', f.count(f.lit(1)).over(Window.partitionBy('startYear')))\r\n",
    "    .withColumn('genres', f.explode(f.split('genres', ',')))\r\n",
    "    .filter(\"startYear = 2018\")\r\n",
    "    .groupby('startYear', 'genres', 'n_titles')\r\n",
    "    .count()\r\n",
    "    .withColumn('perc', f.col('count')/f.col('n_titles'))\r\n",
    "    .filter('genres = \"Comedy\"')\r\n",
    "    .toPandas()\r\n",
    ")"
   ],
   "outputs": [
    {
     "output_type": "execute_result",
     "data": {
      "text/html": [
       "<div>\n",
       "<style scoped>\n",
       "    .dataframe tbody tr th:only-of-type {\n",
       "        vertical-align: middle;\n",
       "    }\n",
       "\n",
       "    .dataframe tbody tr th {\n",
       "        vertical-align: top;\n",
       "    }\n",
       "\n",
       "    .dataframe thead th {\n",
       "        text-align: right;\n",
       "    }\n",
       "</style>\n",
       "<table border=\"1\" class=\"dataframe\">\n",
       "  <thead>\n",
       "    <tr style=\"text-align: right;\">\n",
       "      <th></th>\n",
       "      <th>startYear</th>\n",
       "      <th>genres</th>\n",
       "      <th>n_titles</th>\n",
       "      <th>count</th>\n",
       "      <th>perc</th>\n",
       "    </tr>\n",
       "  </thead>\n",
       "  <tbody>\n",
       "    <tr>\n",
       "      <th>0</th>\n",
       "      <td>2018</td>\n",
       "      <td>Comedy</td>\n",
       "      <td>402244</td>\n",
       "      <td>78809</td>\n",
       "      <td>0.195923</td>\n",
       "    </tr>\n",
       "  </tbody>\n",
       "</table>\n",
       "</div>"
      ],
      "text/plain": [
       "  startYear  genres  n_titles  count      perc\n",
       "0      2018  Comedy    402244  78809  0.195923"
      ]
     },
     "metadata": {},
     "execution_count": 13
    }
   ],
   "metadata": {}
  }
 ],
 "metadata": {
  "kernelspec": {
   "name": "python3",
   "display_name": "Python 3.8.8 64-bit ('base': conda)"
  },
  "language_info": {
   "codemirror_mode": {
    "name": "ipython",
    "version": 3
   },
   "file_extension": ".py",
   "mimetype": "text/x-python",
   "name": "python",
   "nbconvert_exporter": "python",
   "pygments_lexer": "ipython3",
   "version": "3.8.8"
  },
  "interpreter": {
   "hash": "cef9e06bb236b2a8629b07e87a04b187b952a0f661eff5533360a155783f0c33"
  }
 },
 "nbformat": 4,
 "nbformat_minor": 5
}