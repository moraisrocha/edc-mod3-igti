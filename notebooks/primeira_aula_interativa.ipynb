{
 "cells": [
  {
   "cell_type": "markdown",
   "id": "a7264a7a-5b96-4283-a29f-25d0df7e8315",
   "metadata": {},
   "source": [
    "## Bibliotecas"
   ]
  },
  {
   "cell_type": "code",
   "execution_count": 1,
   "id": "0c40711f-1174-4819-8b30-1153a012f9ce",
   "metadata": {},
   "outputs": [],
   "source": [
    "from pyspark.sql import SparkSession\r\n",
    "import pyspark.sql.functions as f\r\n",
    "import pyspark.sql.types as t\r\n",
    "from pyspark.sql.window import Window"
   ]
  },
  {
   "cell_type": "code",
   "execution_count": 2,
   "id": "dc88b9f9-56d4-4059-ab1d-9399d7ef198e",
   "metadata": {},
   "outputs": [],
   "source": [
    "import findspark\r\n",
    "\r\n",
    "findspark.init()"
   ]
  },
  {
   "cell_type": "code",
   "execution_count": 3,
   "id": "9c9eb6d0-fb9f-461d-89e0-4837dbb2ae99",
   "metadata": {},
   "outputs": [],
   "source": [
    "spark = SparkSession.builder.getOrCreate()"
   ]
  },
  {
   "cell_type": "code",
   "execution_count": 4,
   "id": "d93b3253-7b04-4ea9-96ba-e2bc85dcc404",
   "metadata": {},
   "outputs": [],
   "source": [
    "imdb_path = '../data/imdb/'"
   ]
  },
  {
   "cell_type": "code",
   "execution_count": 5,
   "id": "7b62d3ed-1d26-4726-9071-975d9e5eb03e",
   "metadata": {},
   "outputs": [],
   "source": [
    "df_titles = spark.read.format(\"parquet\").load(imdb_path + 'title_basics')\r\n",
    "df_ratings = spark.read.format(\"parquet\").load(imdb_path + 'title_ratings')"
   ]
  }
 ],
 "metadata": {
  "kernelspec": {
   "display_name": "Python 3",
   "language": "python",
   "name": "python3"
  },
  "language_info": {
   "codemirror_mode": {
    "name": "ipython",
    "version": 3
   },
   "file_extension": ".py",
   "mimetype": "text/x-python",
   "name": "python",
   "nbconvert_exporter": "python",
   "pygments_lexer": "ipython3",
   "version": "3.8.8"
  }
 },
 "nbformat": 4,
 "nbformat_minor": 5
}
