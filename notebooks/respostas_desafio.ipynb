{
 "cells": [
  {
   "cell_type": "code",
   "execution_count": 1,
   "source": [
    "from pyspark.sql import SparkSession\r\n",
    "import pyspark.sql.types as t\r\n",
    "import pyspark.sql.functions as f"
   ],
   "outputs": [],
   "metadata": {}
  },
  {
   "cell_type": "code",
   "execution_count": 2,
   "source": [
    "import pandas as pd\r\n",
    "pd.set_option('display.max_columns', None)"
   ],
   "outputs": [],
   "metadata": {}
  },
  {
   "cell_type": "code",
   "execution_count": 3,
   "source": [
    "spark = (\r\n",
    "    SparkSession.builder\r\n",
    "    .config('spark.serializer', \"org.apache.spark.serializer.KryoSerializer\")\r\n",
    "    .getOrCreate()\r\n",
    ")"
   ],
   "outputs": [],
   "metadata": {}
  },
  {
   "cell_type": "code",
   "execution_count": null,
   "source": [
    "df_cnae = (\r\n",
    "    spark.read\r\n",
    "    .format('csv')\r\n",
    "    .option('encoding', 'ISO-8859-1')\r\n",
    "    .option('sep', ';')\r\n",
    "    .option(\"escape\", \"\\\"\")\r\n",
    "    .schema('cod_cnae STRING, nome_cnae STRING')\r\n",
    "    .load('gs://desafio-final/F.K03200$Z.D10710.CNAE.csv')\r\n",
    ")"
   ],
   "outputs": [],
   "metadata": {
    "scrolled": true
   }
  },
  {
   "cell_type": "code",
   "execution_count": null,
   "source": [
    "df_mun = (\r\n",
    "    spark.read\r\n",
    "    .format('csv')\r\n",
    "    .option('encoding', 'ISO-8859-1')\r\n",
    "    .option('sep', ';')\r\n",
    "    .option(\"escape\", \"\\\"\")\r\n",
    "    .schema('cod_mun STRING, nome_mun STRING')\r\n",
    "    .load('gs://desafio-final/F.K03200$Z.D10710.MUNIC.csv')\r\n",
    ")"
   ],
   "outputs": [],
   "metadata": {
    "scrolled": true
   }
  },
  {
   "cell_type": "markdown",
   "source": [
    "### Questão 9"
   ],
   "metadata": {}
  },
  {
   "cell_type": "code",
   "execution_count": null,
   "source": [
    "cols = ['cnpj', 'cnpj_ordem', 'cnpj_dv', 'id_matriz', 'nome_fantasia', \r\n",
    "        'situacao_cadastral', 'data_situacao_cadastral', 'motivo_situacao_cadastral',\r\n",
    "        'nome_cidade_ext', 'cod_pais', 'data_inicio_atividades', \r\n",
    "        'cnae_primario', 'cnae_secundario', \r\n",
    "        'tipo_logradouro', 'logradouro', 'numero', 'complemento', \r\n",
    "        'bairro', 'cep', 'uf', 'cod_mun', \r\n",
    "        'ddd_1', 'telefone_1', 'ddd_2', 'telefone_2', 'ddd_fax', 'fax', \r\n",
    "        'correio_eletronico', 'situacao_especial', 'data_situacao_especial']\r\n",
    "schema = t.StructType([t.StructField(c, t.StringType()) for c in cols])"
   ],
   "outputs": [],
   "metadata": {}
  },
  {
   "cell_type": "code",
   "execution_count": null,
   "source": [
    "df = (\r\n",
    "    spark.read\r\n",
    "    .format('csv')\r\n",
    "    .option('encoding', 'ISO-8859-1')\r\n",
    "    .option('sep', ';')\r\n",
    "    .option(\"escape\", \"\\\"\")\r\n",
    "    .schema(schema)\r\n",
    "    .load('gs://desafio-final/estabelecimentos/*')\r\n",
    ")"
   ],
   "outputs": [],
   "metadata": {
    "scrolled": true
   }
  },
  {
   "cell_type": "markdown",
   "source": [
    "#### Leitura sem escape"
   ],
   "metadata": {}
  },
  {
   "cell_type": "code",
   "execution_count": null,
   "source": [
    "df_teste = (\r\n",
    "    spark.read\r\n",
    "    .format('csv')\r\n",
    "    .option('encoding', 'ISO-8859-1')\r\n",
    "    .option('sep', ';')\r\n",
    "    .schema(schema)\r\n",
    "    .load('gs://desafio-final/estabelecimentos/*')\r\n",
    ")"
   ],
   "outputs": [],
   "metadata": {}
  },
  {
   "cell_type": "code",
   "execution_count": null,
   "source": [
    "df_teste.filter('length(cnae_primario) != 7').limit(5).toPandas()"
   ],
   "outputs": [],
   "metadata": {}
  },
  {
   "cell_type": "markdown",
   "source": [
    "### Questão 10"
   ],
   "metadata": {}
  },
  {
   "cell_type": "code",
   "execution_count": null,
   "source": [
    "df_primario = (\r\n",
    "    df.filter('situacao_cadastral = \"02\"')\r\n",
    "    .groupby('cnae_primario')\r\n",
    "    .count()\r\n",
    "    .withColumnRenamed('cnae_primario', 'cod_cnae')\r\n",
    "    .orderBy(f.desc('count'))\r\n",
    ")"
   ],
   "outputs": [],
   "metadata": {}
  },
  {
   "cell_type": "code",
   "execution_count": null,
   "source": [
    "df_secundario = (\r\n",
    "    df.filter('situacao_cadastral = \"02\"')\r\n",
    "    .withColumn('cod_cnae', f.explode(f.split('cnae_secundario', ',')))\r\n",
    "    .groupby('cod_cnae')\r\n",
    "    .count()\r\n",
    "    .orderBy(f.desc('count'))\r\n",
    ")"
   ],
   "outputs": [],
   "metadata": {}
  },
  {
   "cell_type": "code",
   "execution_count": null,
   "source": [
    "df_primario.unionByName(df_secundario).groupby('cod_cnae').agg(f.sum('count').alias('count')).orderBy(f.desc('count')).limit(5).toPandas()"
   ],
   "outputs": [],
   "metadata": {}
  },
  {
   "cell_type": "markdown",
   "source": [
    "### Questão 11"
   ],
   "metadata": {}
  },
  {
   "cell_type": "code",
   "execution_count": null,
   "source": [
    "df.withColumn('data_inicio_atividades', f.to_date(f.col('data_inicio_atividades'), 'yyyyMMdd')).limit(5).toPandas()"
   ],
   "outputs": [],
   "metadata": {}
  },
  {
   "cell_type": "markdown",
   "source": [
    "### Questão 12"
   ],
   "metadata": {}
  },
  {
   "cell_type": "code",
   "execution_count": null,
   "source": [
    "(\r\n",
    "    df\r\n",
    "    .filter('uf = \"SP\" and situacao_cadastral != \"02\"')\r\n",
    "    .count()\r\n",
    ")"
   ],
   "outputs": [],
   "metadata": {}
  },
  {
   "cell_type": "markdown",
   "source": [
    "### Questão 13"
   ],
   "metadata": {}
  },
  {
   "cell_type": "code",
   "execution_count": null,
   "source": [
    "df.join(df_mun, 'cod_mun').filter('initcap(nome_mun) = \"Belo Horizonte\"')\\\r\n",
    ".filter('(cnae_primario = \"6204000\" or cnae_secundario like \"%6204000%\")')\\\r\n",
    ".count()"
   ],
   "outputs": [],
   "metadata": {}
  },
  {
   "cell_type": "markdown",
   "source": [
    "### Questão 14"
   ],
   "metadata": {}
  },
  {
   "cell_type": "code",
   "execution_count": null,
   "source": [
    "df.join(df_mun, 'cod_mun').filter('nome_fantasia like \"%IGTI%\" and cod_mun = 4123')\\\r\n",
    ".toPandas()"
   ],
   "outputs": [],
   "metadata": {}
  },
  {
   "cell_type": "markdown",
   "source": [
    "## Questão 15"
   ],
   "metadata": {}
  },
  {
   "cell_type": "code",
   "execution_count": null,
   "source": [
    "df.withColumn('data_inicio_atividades', f.to_date(f.col('data_inicio_atividades'), 'yyyyMMdd')).filter('data_inicio_atividades >= \"2020-01-01\"').count()"
   ],
   "outputs": [],
   "metadata": {}
  }
 ],
 "metadata": {
  "kernelspec": {
   "name": "python3",
   "display_name": "Python 3.8.8 64-bit ('base': conda)"
  },
  "language_info": {
   "codemirror_mode": {
    "name": "ipython",
    "version": 3
   },
   "file_extension": ".py",
   "mimetype": "text/x-python",
   "name": "python",
   "nbconvert_exporter": "python",
   "pygments_lexer": "ipython3",
   "version": "3.8.8"
  },
  "interpreter": {
   "hash": "cef9e06bb236b2a8629b07e87a04b187b952a0f661eff5533360a155783f0c33"
  }
 },
 "nbformat": 4,
 "nbformat_minor": 5
}